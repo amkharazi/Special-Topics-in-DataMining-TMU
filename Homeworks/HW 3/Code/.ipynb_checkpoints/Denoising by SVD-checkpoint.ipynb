{
 "cells": [
  {
   "cell_type": "markdown",
   "id": "5e2fef67",
   "metadata": {},
   "source": [
    "# <font color='#ab22dd'> Image denoising using SVD\n",
    "    \n",
    "<hr>\n",
    "    \n",
    "In this excerise, we are trying to denoise an image using SVD.  \n",
    "\n",
    "The process is simple, first we decompose the image matrix using SVD and calculate different levels of it, then we add a noise to the data and try to observe its impact on different parts of SVD (singular values and left singular vectors) \n",
    "\n",
    "<hr> \n",
    "    \n",
    "Everything required for this exercise is available at : \n",
    "    \n",
    "    \n",
    "   \n",
    "***GitHub***  : <a href = \"https://github.com/A-M-Kharazi/Special-Topics-in-DataMining-TMU.git\" > Main (class) repo </a> \n",
    "    &nbsp;&nbsp;&nbsp;\n",
    "    <a href = \"\" > This Document page</a>\n",
    "    \n",
    "    \n",
    "***GoogleDrive*** : <a href = \"\" > Not available ATM  </a>\n",
    "    "
   ]
  },
  {
   "cell_type": "markdown",
   "id": "de219d49",
   "metadata": {},
   "source": [
    "# <font color='#ab22dd'> Import Libraries\n",
    "\n",
    "<hr>\n",
    "   \n",
    "- numpy : is used for simple numerical calculation and SVD\n",
    "    \n",
    "    \n",
    "- matplotlib : to visualize our attempts\n",
    "    \n",
    "    \n",
    "- skimage : image data center (sample image is cameraman) + noise\n",
    "    \n",
    "    \n",
    "- HTML : is to play the animation in IPython\n"
   ]
  },
  {
   "cell_type": "code",
   "execution_count": null,
   "id": "45635c62",
   "metadata": {},
   "outputs": [],
   "source": [
    "import numpy as np\n",
    "import matplotlib\n",
    "import matplotlib.pyplot as plt\n",
    "import matplotlib.animation as animation\n",
    "from skimage.data import camera\n",
    "from skimage.util import random_noise\n",
    "from IPython.display import HTML\n",
    "matplotlib.rcParams['animation.embed_limit'] = 2**128\n",
    "%matplotlib inline"
   ]
  },
  {
   "cell_type": "markdown",
   "id": "12023b1c",
   "metadata": {},
   "source": [
    "# <font color='#ab22dd'> Load Image\n",
    "    \n",
    "<hr>\n",
    "    \n",
    "Using skimage we can easily load the camara man image "
   ]
  },
  {
   "cell_type": "code",
   "execution_count": null,
   "id": "9d0310c0",
   "metadata": {},
   "outputs": [],
   "source": [
    "img = camera()\n",
    "plt.imshow(img, cmap = 'gray')\n",
    "plt.title(\"Cameraman\")\n",
    "plt.axis('off')\n",
    "plt.show()"
   ]
  },
  {
   "cell_type": "markdown",
   "id": "8a2ed935",
   "metadata": {},
   "source": [
    "# <font color='#ab22dd'> SVD\n",
    "    \n",
    "<hr>\n",
    "\n",
    "We can calculate SVD using this formula (considering matrix is Real) :\n",
    "    \n",
    "$$\n",
    "A = \\sum_{i=1}^{r}\\sigma_i u_i v_i^T\n",
    "$$\n",
    "    \n",
    "where $r$ is the rank of matrix.\n",
    "    \n",
    "There is no need to calcualte every part of this sum. that is we can use a $k$ approximation of the SVD above.\n",
    "    \n",
    "$$\n",
    "A_k = \\sum_{i=1}^{k}\\sigma_i u_i v_i^T\n",
    "$$\n",
    "    \n",
    "where $k$ is $1 \\dots r$ .\n",
    "    \n",
    "This approximation gives a good explanation of what might happen to an image if a noise where to be added to its pixels.\n",
    "    \n",
    "    \n",
    "we can calculate $u$ and $v$ and $sigma$ using numpy and the calculate its $k$ approximation by hand."
   ]
  },
  {
   "cell_type": "code",
   "execution_count": null,
   "id": "eb0f4fbe",
   "metadata": {},
   "outputs": [],
   "source": [
    "r =  np.linalg.matrix_rank(img)\n",
    "svd  =  np.linalg.svd(img)\n",
    "u = svd[0]\n",
    "sigma = svd[1] # np.diag(sigma)\n",
    "vt = svd[2]"
   ]
  },
  {
   "cell_type": "markdown",
   "id": "30b1e9df",
   "metadata": {},
   "source": [
    "## <font color='#ab22dd'> $K$ approximation\n",
    "    \n",
    "Using above explanation, we can obtain $k$ approximation of a matrix by a function such as bellow.\n",
    "    "
   ]
  },
  {
   "cell_type": "code",
   "execution_count": null,
   "id": "569bb35c",
   "metadata": {},
   "outputs": [],
   "source": [
    "def k_approx(K, U, S, VT):\n",
    "    sum = 0.0\n",
    "    for i in range(0,K):\n",
    "        ui = U[:,i].reshape(-1,1)\n",
    "        vti = VT[i,:].reshape(-1,1)\n",
    "        sigmai = sigma[i]\n",
    "        sum+= sigmai*np.dot(ui, vti.T)     \n",
    "    return sum"
   ]
  },
  {
   "cell_type": "markdown",
   "id": "82645bc4",
   "metadata": {},
   "source": [
    "##  <font color='#ab22dd'> Visualization\n",
    "    \n",
    "As an animation we can observerve how differenct approximation of SVD can be presented, and the last image in the animation is the complete SVD and the actual image.\n",
    "    \n",
    "Generating all the images necessary for the animation will take a while, therefore please be patient... "
   ]
  },
  {
   "cell_type": "code",
   "execution_count": null,
   "id": "6949da3f",
   "metadata": {},
   "outputs": [],
   "source": [
    "images_list = []\n",
    "for i in range(1,r+1):\n",
    "    images_list.append(k_approx(i, u, sigma, vt))"
   ]
  },
  {
   "cell_type": "markdown",
   "id": "f58de0fb",
   "metadata": {},
   "source": [
    "### <font color='#ab22dd'> Animation\n",
    "    \n",
    "Using the generated approximation from before."
   ]
  },
  {
   "cell_type": "code",
   "execution_count": null,
   "id": "26b42b2f",
   "metadata": {
    "scrolled": false
   },
   "outputs": [],
   "source": [
    "# from matplotlib document at https://matplotlib.org/stable/gallery/animation/dynamic_image.html\n",
    "\n",
    "fig, ax = plt.subplots()\n",
    "frames = []\n",
    "for i in range(0,r):\n",
    "    im = ax.imshow(images_list[i], animated=True, cmap = 'gray')\n",
    "    frames.append([im])\n",
    "\n",
    "ani = animation.ArtistAnimation(fig, frames, interval=100, blit=True,\n",
    "                                repeat_delay=1000)\n",
    "plt.close()\n",
    "HTML(ani.to_jshtml())"
   ]
  },
  {
   "cell_type": "markdown",
   "id": "c6948003",
   "metadata": {},
   "source": [
    "###  <font color='#ab22dd'> Static Images\n",
    "    \n",
    "As 8 static images. \n",
    "    \n",
    "change draw index to show different images."
   ]
  },
  {
   "cell_type": "code",
   "execution_count": null,
   "id": "deb23b41",
   "metadata": {},
   "outputs": [],
   "source": [
    "# A1 , A5, A10 , A50, A100, A150, A250, A512\n",
    "\n",
    "fig = plt.figure(figsize=(10,10))\n",
    "\n",
    "draw = [0, 4, 9, 49, 99, 149, 249, 511]\n",
    "\n",
    "ax = fig.add_subplot(4, 2, 1)\n",
    "ax.imshow(images_list[draw[0]], cmap = 'gray')\n",
    "ax.set_title(f'A{draw[0]+1}')\n",
    "ax.axis('off')\n",
    "\n",
    "\n",
    "ax = fig.add_subplot(4, 2, 2)\n",
    "ax.imshow(images_list[draw[1]], cmap = 'gray')\n",
    "ax.set_title(f'A{draw[1]+1}')\n",
    "ax.axis('off')\n",
    "\n",
    "ax = fig.add_subplot(4, 2, 3)\n",
    "ax.imshow(images_list[draw[2]], cmap = 'gray')\n",
    "ax.set_title(f'A{draw[2]+1}')\n",
    "ax.axis('off')\n",
    "\n",
    "ax = fig.add_subplot(4, 2, 4)\n",
    "ax.imshow(images_list[draw[3]], cmap = 'gray')\n",
    "ax.set_title(f'A{draw[3]+1}')\n",
    "ax.axis('off')\n",
    "\n",
    "ax = fig.add_subplot(4, 2, 5)\n",
    "ax.imshow(images_list[draw[4]], cmap = 'gray')\n",
    "ax.set_title(f'A{draw[4]+1}')\n",
    "ax.axis('off')\n",
    "\n",
    "ax = fig.add_subplot(4, 2, 6)\n",
    "ax.imshow(images_list[draw[5]], cmap = 'gray')\n",
    "ax.set_title(f'A{draw[5]+1}')\n",
    "ax.axis('off')\n",
    "\n",
    "ax = fig.add_subplot(4, 2, 7)\n",
    "ax.imshow(images_list[draw[6]], cmap = 'gray')\n",
    "ax.set_title(f'A{draw[6]+1}')\n",
    "ax.axis('off')\n",
    "\n",
    "ax = fig.add_subplot(4, 2, 8)\n",
    "ax.imshow(images_list[draw[7]], cmap = 'gray')\n",
    "ax.set_title(f'A{draw[7]+1}')\n",
    "ax.axis('off')\n",
    "\n",
    "fig.tight_layout()"
   ]
  },
  {
   "cell_type": "markdown",
   "id": "c8dc3358",
   "metadata": {},
   "source": [
    "# <font color='#ab22dd'> Left Singular Vector (U) behaviour\n",
    "\n",
    "<hr>\n",
    "    \n",
    "Left singular vectors tends to oscillate more as their column index increases. \n",
    "    \n",
    "This finding can be observed if the plot each $U$  (x axis is the elements of $u$ and y axis is the value of that element)."
   ]
  },
  {
   "cell_type": "code",
   "execution_count": null,
   "id": "d75dc5ef",
   "metadata": {},
   "outputs": [],
   "source": [
    "# U1 , U5, U10 , U50, U100, U150, U250, U512\n",
    "\n",
    "fig = plt.figure(figsize=(15,15))\n",
    "\n",
    "draw = [0, 4, 9, 49, 99, 149, 249, 511]\n",
    "\n",
    "ax = fig.add_subplot(4, 2, 1)\n",
    "ax.plot(range(1,513), u[:,draw[0]], color = 'red')\n",
    "ax.set_title(f'u{draw[0]+1}')\n",
    "ax.set_xlabel('index')\n",
    "ax.set_ylabel('value')\n",
    "\n",
    "ax = fig.add_subplot(4, 2, 2)\n",
    "ax.plot(range(1,513), u[:,draw[1]], color = 'blue')\n",
    "ax.set_title(f'u{draw[1]+1}')\n",
    "ax.set_xlabel('index')\n",
    "ax.set_ylabel('value')\n",
    "\n",
    "ax = fig.add_subplot(4, 2, 3)\n",
    "ax.plot(range(1,513), u[:,draw[2]], color = 'black')\n",
    "ax.set_title(f'u{draw[2]+1}')\n",
    "ax.set_xlabel('index')\n",
    "ax.set_ylabel('value')\n",
    "\n",
    "ax = fig.add_subplot(4, 2, 4)\n",
    "ax.plot(range(1,513), u[:,draw[3]], color = 'green')\n",
    "ax.set_title(f'u{draw[3]+1}')\n",
    "ax.set_xlabel('index')\n",
    "ax.set_ylabel('value')\n",
    "\n",
    "ax = fig.add_subplot(4, 2, 5)\n",
    "ax.plot(range(1,513), u[:,draw[4]], color = 'cyan')\n",
    "ax.set_title(f'u{draw[4]+1}')\n",
    "ax.set_xlabel('index')\n",
    "ax.set_ylabel('value')\n",
    "\n",
    "ax = fig.add_subplot(4, 2, 6)\n",
    "ax.plot(range(1,513), u[:,draw[5]], color = 'orange')\n",
    "ax.set_title(f'u{draw[5]+1}')\n",
    "ax.set_xlabel('index')\n",
    "ax.set_ylabel('value')\n",
    "\n",
    "ax = fig.add_subplot(4, 2, 7)\n",
    "ax.plot(range(1,513), u[:,draw[6]], color = 'purple')\n",
    "ax.set_title(f'u{draw[6]+1}')\n",
    "ax.set_xlabel('index')\n",
    "ax.set_ylabel('value')\n",
    "\n",
    "ax = fig.add_subplot(4, 2, 8)\n",
    "ax.plot(range(1,513), u[:,draw[7]], color = 'lime')\n",
    "ax.set_title(f'u{draw[7]+1}')\n",
    "ax.set_xlabel('index')\n",
    "ax.set_ylabel('value')\n",
    "\n",
    "fig.tight_layout()"
   ]
  },
  {
   "cell_type": "markdown",
   "id": "072fcb0e",
   "metadata": {},
   "source": [
    "# <font color='#ab22dd'> Adding Noise\n",
    "    \n",
    "    \n",
    "<hr>\n",
    "    \n",
    "we can simply add a noise to our image using skimage. \n",
    "    \n",
    "Guassian with the mean 0 and variance 0.2."
   ]
  },
  {
   "cell_type": "code",
   "execution_count": null,
   "id": "44e39529",
   "metadata": {
    "scrolled": false
   },
   "outputs": [],
   "source": [
    "img_noisy = random_noise(img, mode='gaussian', mean = 0.0, var = 0.2)\n",
    "plt.imshow(img_noisy,cmap='gray')\n",
    "plt.title('Noisy Cameraman')\n",
    "plt.axis('off')\n",
    "plt.show()"
   ]
  },
  {
   "cell_type": "markdown",
   "id": "b7137590",
   "metadata": {},
   "source": [
    "# <font color='#ab22dd'> SVD on noisy image\n",
    "    \n",
    "<hr>\n",
    "    \n",
    "Same as before but on a noisy data.\n",
    "    \n",
    "As it is later revealed, we can choose some of the $K$ approximation as the denoised image. "
   ]
  },
  {
   "cell_type": "code",
   "execution_count": null,
   "id": "71d7c64d",
   "metadata": {},
   "outputs": [],
   "source": [
    "r_noisy =  np.linalg.matrix_rank(img_noisy)\n",
    "svd_noisy  =  np.linalg.svd(img_noisy)\n",
    "u_noisy = svd_noisy[0]\n",
    "sigma_noisy = svd_noisy[1] # np.diag(sigma)\n",
    "vt_noisy = svd_noisy[2]"
   ]
  },
  {
   "cell_type": "markdown",
   "id": "e496ec9b",
   "metadata": {},
   "source": [
    "##  <font color='#ab22dd'> Visualization\n",
    "    \n",
    "As an animation we can observerve how differenct approximation of SVD can be presented, and the last image in the animation is the complete SVD and the actual image.\n",
    "    \n",
    "Generating all the images necessary for the animation will take a while, therefore please be patient... "
   ]
  },
  {
   "cell_type": "code",
   "execution_count": null,
   "id": "bc0c210d",
   "metadata": {},
   "outputs": [],
   "source": [
    "images_noisy_list = []\n",
    "for i in range(1,r_noisy+1):\n",
    "    images_noisy_list.append(k_approx(i, u_noisy, sigma_noisy, vt_noisy))"
   ]
  },
  {
   "cell_type": "markdown",
   "id": "8195ff7b",
   "metadata": {},
   "source": [
    "### <font color='#ab22dd'> Animation\n",
    "    \n",
    "Using the generated approximation from before."
   ]
  },
  {
   "cell_type": "code",
   "execution_count": null,
   "id": "2fe7caa3",
   "metadata": {},
   "outputs": [],
   "source": [
    "# from matplotlib document at https://matplotlib.org/stable/gallery/animation/dynamic_image.html\n",
    "\n",
    "fig, ax = plt.subplots()\n",
    "frames_noisy = []\n",
    "for i in range(0,r):\n",
    "    im = ax.imshow(images_noisy_list[i], animated=True, cmap = 'gray')\n",
    "    frames_noisy.append([im])\n",
    "\n",
    "ani = animation.ArtistAnimation(fig, frames_noisy, interval=100, blit=True,\n",
    "                                repeat_delay=1000)\n",
    "plt.close()\n",
    "HTML(ani.to_jshtml())"
   ]
  },
  {
   "cell_type": "markdown",
   "id": "5c24dc61",
   "metadata": {},
   "source": [
    "###  <font color='#ab22dd'> Static Images\n",
    "    \n",
    "As 8 static images. \n",
    "    \n",
    "change draw index to show different images."
   ]
  },
  {
   "cell_type": "code",
   "execution_count": null,
   "id": "3b457d1e",
   "metadata": {},
   "outputs": [],
   "source": [
    "# A1 , A5, A10 , A50, A100, A150, A250, A512\n",
    "\n",
    "fig = plt.figure(figsize=(10,10))\n",
    "\n",
    "draw = [0, 4, 9, 49, 99, 149, 249, 511]\n",
    "\n",
    "ax = fig.add_subplot(4, 2, 1)\n",
    "ax.imshow(images_noisy_list[draw[0]], cmap = 'gray')\n",
    "ax.set_title(f'A{draw[0]+1}')\n",
    "ax.axis('off')\n",
    "\n",
    "\n",
    "ax = fig.add_subplot(4, 2, 2)\n",
    "ax.imshow(images_noisy_list[draw[1]], cmap = 'gray')\n",
    "ax.set_title(f'A{draw[1]+1}')\n",
    "ax.axis('off')\n",
    "\n",
    "ax = fig.add_subplot(4, 2, 3)\n",
    "ax.imshow(images_noisy_list[draw[2]], cmap = 'gray')\n",
    "ax.set_title(f'A{draw[2]+1}')\n",
    "ax.axis('off')\n",
    "\n",
    "ax = fig.add_subplot(4, 2, 4)\n",
    "ax.imshow(images_noisy_list[draw[3]], cmap = 'gray')\n",
    "ax.set_title(f'A{draw[3]+1}')\n",
    "ax.axis('off')\n",
    "\n",
    "ax = fig.add_subplot(4, 2, 5)\n",
    "ax.imshow(images_noisy_list[draw[4]], cmap = 'gray')\n",
    "ax.set_title(f'A{draw[4]+1}')\n",
    "ax.axis('off')\n",
    "\n",
    "ax = fig.add_subplot(4, 2, 6)\n",
    "ax.imshow(images_noisy_list[draw[5]], cmap = 'gray')\n",
    "ax.set_title(f'A{draw[5]+1}')\n",
    "ax.axis('off')\n",
    "\n",
    "ax = fig.add_subplot(4, 2, 7)\n",
    "ax.imshow(images_noisy_list[draw[6]], cmap = 'gray')\n",
    "ax.set_title(f'A{draw[6]+1}')\n",
    "ax.axis('off')\n",
    "\n",
    "ax = fig.add_subplot(4, 2, 8)\n",
    "ax.imshow(images_noisy_list[draw[7]], cmap = 'gray')\n",
    "ax.set_title(f'A{draw[7]+1}')\n",
    "ax.axis('off')\n",
    "\n",
    "fig.tight_layout()"
   ]
  },
  {
   "cell_type": "markdown",
   "id": "4a88b6fa",
   "metadata": {},
   "source": [
    "# <font color='#ab22dd'> Left Singular Vector (U) behaviour (on Noisy image)\n",
    "\n",
    "<hr>\n",
    "    \n",
    "Left singular vectors tends to oscillate more as their column index increases. \n",
    "    \n",
    "This finding can be observed if the plot each $U$  (x axis is the elements of $u$ and y axis is the value of that element)."
   ]
  },
  {
   "cell_type": "code",
   "execution_count": null,
   "id": "2b5651da",
   "metadata": {},
   "outputs": [],
   "source": [
    "# U1 , U5, U10 , U50, U100, U150, U250, U512\n",
    "\n",
    "fig = plt.figure(figsize=(15,15))\n",
    "\n",
    "draw = [0, 4, 9, 49, 99, 149, 249, 511]\n",
    "\n",
    "ax = fig.add_subplot(4, 2, 1)\n",
    "ax.plot(range(1,513), u_noisy[:,draw[0]], color = 'red')\n",
    "ax.set_title(f'u{draw[0]+1}')\n",
    "ax.set_xlabel('index')\n",
    "ax.set_ylabel('value')\n",
    "\n",
    "ax = fig.add_subplot(4, 2, 2)\n",
    "ax.plot(range(1,513), u_noisy[:,draw[1]], color = 'blue')\n",
    "ax.set_title(f'u{draw[1]+1}')\n",
    "ax.set_xlabel('index')\n",
    "ax.set_ylabel('value')\n",
    "\n",
    "ax = fig.add_subplot(4, 2, 3)\n",
    "ax.plot(range(1,513), u_noisy[:,draw[2]], color = 'black')\n",
    "ax.set_title(f'u{draw[2]+1}')\n",
    "ax.set_xlabel('index')\n",
    "ax.set_ylabel('value')\n",
    "\n",
    "ax = fig.add_subplot(4, 2, 4)\n",
    "ax.plot(range(1,513), u_noisy[:,draw[3]], color = 'green')\n",
    "ax.set_title(f'u{draw[3]+1}')\n",
    "ax.set_xlabel('index')\n",
    "ax.set_ylabel('value')\n",
    "\n",
    "ax = fig.add_subplot(4, 2, 5)\n",
    "ax.plot(range(1,513), u_noisy[:,draw[4]], color = 'cyan')\n",
    "ax.set_title(f'u{draw[4]+1}')\n",
    "ax.set_xlabel('index')\n",
    "ax.set_ylabel('value')\n",
    "\n",
    "ax = fig.add_subplot(4, 2, 6)\n",
    "ax.plot(range(1,513), u_noisy[:,draw[5]], color = 'orange')\n",
    "ax.set_title(f'u{draw[5]+1}')\n",
    "ax.set_xlabel('index')\n",
    "ax.set_ylabel('value')\n",
    "\n",
    "ax = fig.add_subplot(4, 2, 7)\n",
    "ax.plot(range(1,513), u_noisy[:,draw[6]], color = 'purple')\n",
    "ax.set_title(f'u{draw[6]+1}')\n",
    "ax.set_xlabel('index')\n",
    "ax.set_ylabel('value')\n",
    "\n",
    "ax = fig.add_subplot(4, 2, 8)\n",
    "ax.plot(range(1,513), u_noisy[:,draw[7]], color = 'lime')\n",
    "ax.set_title(f'u{draw[7]+1}')\n",
    "ax.set_xlabel('index')\n",
    "ax.set_ylabel('value')\n",
    "\n",
    "fig.tight_layout()"
   ]
  },
  {
   "cell_type": "markdown",
   "id": "08e6f594",
   "metadata": {},
   "source": [
    "# <font color='#ab22dd'> Singular Values\n",
    "\n",
    "<hr>\n",
    "    \n",
    "Comparison between singular values of noisy and original image."
   ]
  },
  {
   "cell_type": "code",
   "execution_count": null,
   "id": "2c3eb360",
   "metadata": {},
   "outputs": [],
   "source": [
    "fig = plt.figure(figsize=(15,5))\n",
    "\n",
    "draw = [0, 4, 9, 49, 99, 149, 249, 511]\n",
    "\n",
    "ax = fig.add_subplot(1, 2, 1)\n",
    "ax.plot(sigma,'.', label = 'original', color = 'purple')\n",
    "ax.set_title('Singular Values (original)')\n",
    "ax.set_xlabel('sigma index')\n",
    "ax.set_ylabel('value')\n",
    "\n",
    "ax = fig.add_subplot(1, 2, 2)\n",
    "ax.plot(sigma_noisy,'.', label = 'noisy', alpha = 0.5, color = 'red')\n",
    "ax.set_title('Singular Values (noisy)')\n",
    "ax.set_xlabel('sigma index')\n",
    "ax.set_ylabel('value')\n",
    "\n",
    "plt.tight_layout()\n",
    "plt.show()"
   ]
  },
  {
   "cell_type": "code",
   "execution_count": null,
   "id": "e4524718",
   "metadata": {},
   "outputs": [],
   "source": []
  }
 ],
 "metadata": {
  "kernelspec": {
   "display_name": "Python 3 (ipykernel)",
   "language": "python",
   "name": "python3"
  },
  "language_info": {
   "codemirror_mode": {
    "name": "ipython",
    "version": 3
   },
   "file_extension": ".py",
   "mimetype": "text/x-python",
   "name": "python",
   "nbconvert_exporter": "python",
   "pygments_lexer": "ipython3",
   "version": "3.9.7"
  }
 },
 "nbformat": 4,
 "nbformat_minor": 5
}
